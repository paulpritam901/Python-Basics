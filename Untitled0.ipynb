{
  "nbformat": 4,
  "nbformat_minor": 0,
  "metadata": {
    "colab": {
      "provenance": []
    },
    "kernelspec": {
      "name": "python3",
      "display_name": "Python 3"
    },
    "language_info": {
      "name": "python"
    }
  },
  "cells": [
    {
      "cell_type": "markdown",
      "source": [
        "1. What is Python, and why is it popular?\n",
        "  - Python is a high-level, interpreted programming language known for its simplicity and readability. It was created by Guido van Rossum and first released in 1991. Python is widely used in various fields, including web development, data analysis, artificial intelligence, machine learning, automation, and scientific computing.\n",
        "\n",
        "2. What is an interpreter in Python?\n",
        "  - An interpreter in Python is a program that reads and executes Python code line by line. Unlike a compiler, which translates the entire code into machine language before execution, an interpreter executes the program directly, which means it processes the code as it is being written or run, rather than producing an output file beforehand.\n",
        "\n",
        "3. What are pre-defined keywords in Python?\n",
        "  - In Python, pre-defined keywords (also known as reserved words) are special words that the Python interpreter recognizes as part of the language syntax. These words have a specific meaning and cannot be used as identifiers (like variable names, function names, or class names).\n",
        "\n",
        "4. Can keywords be used as variable names?\n",
        "  - No, keywords cannot be used as variable names in most programming languages, including Python, Java, C, and others. Keywords are reserved words that have special meanings in the language, such as control structures (if, else, while), data types (int, float), and function definitions (def, return).\n",
        "\n",
        "5.  What is mutability in Python?\n",
        "  - Mutability in Python refers to whether an object can be changed after it is created\n",
        "\n",
        "6. Why are lists mutable, but tuples are immutable?\n",
        "  - The reason lists are mutable but tuples are immutable in Python is due to design choices that prioritize flexibility for lists and efficiency for tuples.\n",
        "\n",
        "7. What is the difference between “==” and “is” operators in Python?\n",
        "  - == (Equality Operator)\n",
        "  a. Checks if two objects have the same value.\n",
        "\n",
        "  b. Even if objects are stored in different memory locations, == can return    True if their contents are equal.\n",
        "  \n",
        "     is (Identity Operator)\n",
        "  a. Checks if two variables point to the same memory address.\n",
        "\n",
        "  b. Returns True only if both variables refer to the exact same object.\n",
        "\n",
        "8. What are logical operators in Python?\n",
        "  - Logical Operators in Python Logical operators in Python are used to combine conditional statements and return True or False based on logical conditions.\n",
        "\n",
        "9. What is type casting in Python?\n",
        "  - Type Casting in Python\n",
        "   Type casting (or type conversion) in Python is the process of converting one data type into another.\n",
        "   Python provides two types of type casting:\n",
        "\n",
        "   a.Implicit Type Casting (Automatic conversion by Python)\n",
        "\n",
        "   b.Explicit Type Casting (Manual conversion using functions)\n",
        "\n",
        "10. What is the difference between implicit and explicit type casting?\n",
        "  -  Implicit Type Casting (Automatic)\n",
        "     \n",
        "   a. Python automatically converts smaller data types to larger ones to avoid\n",
        "     data loss.\n",
        "\n",
        "   b. No manual intervention is needed.\n",
        "\n",
        "     Explicit Type Casting (Manual)\n",
        "  \n",
        "  a. Manually converting data types using built-in functions.\n",
        "\n",
        "  b. Used when Python does not automatically convert the type.\n",
        "\n",
        "  c. May lead to data loss.\n",
        "\n",
        "11. What is the purpose of conditional statements in Python?\n",
        "  - Conditional statements in Python allow the program to make decisions based on certain conditions. They control the flow of execution by executing different code blocks depending on whether a condition is True or False.\n",
        "\n",
        "12. How does the elif statement work?\n",
        "  - The elif statement in Python stands for \"else if\" and is used to check multiple conditions in an if-elif-else structure.\n",
        "\n",
        "   It allows the program to evaluate multiple conditions one by one, executing the first block where the condition is True, and skipping the rest.\n",
        "\n",
        "13. What is the difference between for and while loops?\n",
        "  - for Loop - Used for Definite Iteration\n",
        "  A for loop is used when we know beforehand how many times we need to loop.\n",
        "\n",
        "     while Loop - Used for Indefinite Iteration\n",
        "   A while loop runs until a condition becomes False.\n",
        "   Use it when you don't know how many times the loop should run.\n",
        "\n",
        "14. Describe a scenario where a while loop is more suitable than a for loop.\n",
        "  - A while loop is better suited when we don't know in advance how many times the loop should run.\n",
        "\n",
        "  Scenario: ATM PIN Entry (User Authentication)\n",
        "  Imagine an ATM system that asks the user to enter their PIN. The system should keep asking for the PIN until the correct one is entered.\n",
        "\n",
        "  Since we don't know how many attempts the user will take, a while loop is the best choice.\n"
      ],
      "metadata": {
        "id": "3vG2LaVLW3cT"
      }
    },
    {
      "cell_type": "code",
      "source": [
        "#Write a Python program to print \"Hello, World!\"\"\n",
        "print(\"Hello, World!\")"
      ],
      "metadata": {
        "colab": {
          "base_uri": "https://localhost:8080/"
        },
        "id": "-dq8GgIlW9cd",
        "outputId": "b31887d8-8e78-42b2-c039-037f45788f9e"
      },
      "execution_count": 1,
      "outputs": [
        {
          "output_type": "stream",
          "name": "stdout",
          "text": [
            "Hello, World!\n"
          ]
        }
      ]
    },
    {
      "cell_type": "code",
      "execution_count": 2,
      "metadata": {
        "colab": {
          "base_uri": "https://localhost:8080/"
        },
        "id": "KifG5bCkWYrI",
        "outputId": "ddc1ef0d-da53-4af0-b19c-4fb35b5b2857"
      },
      "outputs": [
        {
          "name": "stdout",
          "output_type": "stream",
          "text": [
            "Enter your name:Pritam\n",
            "Enter your age:23\n"
          ]
        }
      ],
      "source": [
        "#Write a Python program that displays your name and age.\n",
        "name = input(\"Enter your name:\")\n",
        "age = input(\"Enter your age:\")\n",
        "\n",
        "\n",
        "\n"
      ]
    },
    {
      "cell_type": "code",
      "source": [
        "#Write code to print all the pre-defined keywords in Python using the keyword library.\n",
        "import keyword\n",
        "print(keyword.kwlist)"
      ],
      "metadata": {
        "colab": {
          "base_uri": "https://localhost:8080/"
        },
        "id": "KOUnYS0vWZ_L",
        "outputId": "a07a4683-8f13-438e-9179-329928143c1c"
      },
      "execution_count": 5,
      "outputs": [
        {
          "output_type": "stream",
          "name": "stdout",
          "text": [
            "['False', 'None', 'True', 'and', 'as', 'assert', 'async', 'await', 'break', 'class', 'continue', 'def', 'del', 'elif', 'else', 'except', 'finally', 'for', 'from', 'global', 'if', 'import', 'in', 'is', 'lambda', 'nonlocal', 'not', 'or', 'pass', 'raise', 'return', 'try', 'while', 'with', 'yield']\n"
          ]
        }
      ]
    },
    {
      "cell_type": "code",
      "source": [
        "#Write a program that checks if a given word is a Python keyword.\n",
        "import keyword\n",
        "word = input(\"Enter a word: \")\n",
        "if keyword.iskeyword(word):\n",
        "    print(f\"'{word}' is a Python keyword.\")\n",
        "else:\n",
        "    print(f\"'{word}' is NOT a Python keyword.\")"
      ],
      "metadata": {
        "colab": {
          "base_uri": "https://localhost:8080/"
        },
        "id": "q_ITs-tgrjGA",
        "outputId": "f231cfe8-4808-4fb2-cda1-4b44b8fc53c2"
      },
      "execution_count": 6,
      "outputs": [
        {
          "output_type": "stream",
          "name": "stdout",
          "text": [
            "Enter a word: while\n",
            "'while' is a Python keyword.\n"
          ]
        }
      ]
    },
    {
      "cell_type": "code",
      "source": [
        "#Write a program to demonstrate the use of logical operators.\n",
        "# Taking user input\n",
        "a = int(input(\"Enter first number: \"))\n",
        "b = int(input(\"Enter second number: \"))\n",
        "\n",
        "# Using 'and' operator\n",
        "print(\"\\nUsing 'and' operator:\")\n",
        "print(f\"Both numbers are greater than 10: {a > 10 and b > 10}\")\n",
        "\n",
        "# Using 'or' operator\n",
        "print(\"\\nUsing 'or' operator:\")\n",
        "print(f\"At least one number is greater than 10: {a > 10 or b > 10}\")\n",
        "\n",
        "# Using 'not' operator\n",
        "print(\"\\nUsing 'not' operator:\")\n",
        "print(f\"First number is NOT greater than 10: {not (a > 10)}\")\n"
      ],
      "metadata": {
        "colab": {
          "base_uri": "https://localhost:8080/"
        },
        "id": "CWwgVHA9rjPY",
        "outputId": "8d8a7625-8247-4f49-c2b0-c9046b147722"
      },
      "execution_count": 7,
      "outputs": [
        {
          "output_type": "stream",
          "name": "stdout",
          "text": [
            "Enter first number: 15\n",
            "Enter second number: 5\n",
            "\n",
            "Using 'and' operator:\n",
            "Both numbers are greater than 10: False\n",
            "\n",
            "Using 'or' operator:\n",
            "At least one number is greater than 10: True\n",
            "\n",
            "Using 'not' operator:\n",
            "First number is NOT greater than 10: False\n"
          ]
        }
      ]
    },
    {
      "cell_type": "code",
      "source": [
        "#Write a Python program to convert user input from string to integer, float, and boolean types.\n",
        "# Taking user input as a string\n",
        "user_input = input(\"Enter a value: \")\n",
        "\n",
        "# Converting to integer\n",
        "try:\n",
        "    int_value = int(user_input)\n",
        "    print(f\"Integer value: {int_value}\")\n",
        "except ValueError:\n",
        "    print(\"Cannot convert to integer.\")\n",
        "\n",
        "# Converting to float\n",
        "try:\n",
        "    float_value = float(user_input)\n",
        "    print(f\"Float value: {float_value}\")\n",
        "except ValueError:\n",
        "    print(\"Cannot convert to float.\")\n",
        "\n",
        "# Converting to boolean\n",
        "bool_value = bool(user_input.strip())\n",
        "\n",
        "# Any non-empty string is True\n",
        "print(f\"Boolean value: {bool_value}\")"
      ],
      "metadata": {
        "colab": {
          "base_uri": "https://localhost:8080/"
        },
        "id": "1z5nypb-rjSc",
        "outputId": "4e9e09f2-f541-475e-9db2-1d56655c5185"
      },
      "execution_count": 8,
      "outputs": [
        {
          "output_type": "stream",
          "name": "stdout",
          "text": [
            "Enter a value: 17\n",
            "Integer value: 17\n",
            "Float value: 17.0\n",
            "Boolean value: True\n"
          ]
        }
      ]
    },
    {
      "cell_type": "code",
      "source": [
        "#Write a program that checks if a number is positive, negative, or zero.\n",
        "num = float(input(\"Enter a number: \"))\n",
        "\n",
        "if num > 0:\n",
        "    print(\"The number is Positive.\")\n",
        "elif num < 0:\n",
        "    print(\"The number is Negative.\")\n",
        "else:\n",
        "    print(\"The number is Zero.\")\n"
      ],
      "metadata": {
        "colab": {
          "base_uri": "https://localhost:8080/"
        },
        "id": "3pJzMP_4udUI",
        "outputId": "d4fa35dd-e5a0-45b2-8611-cbbd61bd3b10"
      },
      "execution_count": 10,
      "outputs": [
        {
          "output_type": "stream",
          "name": "stdout",
          "text": [
            "Enter a number: 1\n",
            "The number is Positive.\n"
          ]
        }
      ]
    },
    {
      "cell_type": "code",
      "source": [
        "# Write a for loop to print numbers from 1 to 10.\n",
        "for num in range(1, 11):\n",
        "    print(num)"
      ],
      "metadata": {
        "colab": {
          "base_uri": "https://localhost:8080/"
        },
        "id": "tdPa1UHZvDWJ",
        "outputId": "b342a2e7-6c46-47af-b941-d764df31b4bc"
      },
      "execution_count": 11,
      "outputs": [
        {
          "output_type": "stream",
          "name": "stdout",
          "text": [
            "1\n",
            "2\n",
            "3\n",
            "4\n",
            "5\n",
            "6\n",
            "7\n",
            "8\n",
            "9\n",
            "10\n"
          ]
        }
      ]
    },
    {
      "cell_type": "code",
      "source": [
        "# Write a Python program to find the sum of all even numbers between 1 and 50.\n",
        "sum_even = 0\n",
        "for num in range(2, 51, 2):\n",
        "    sum_even += num\n",
        "\n",
        "print(\"Sum of all even numbers between 1 and 50:\", sum_even)"
      ],
      "metadata": {
        "colab": {
          "base_uri": "https://localhost:8080/"
        },
        "id": "f17LK0unvSen",
        "outputId": "80d76fdc-b3f5-4637-f953-01f58b505e25"
      },
      "execution_count": 12,
      "outputs": [
        {
          "output_type": "stream",
          "name": "stdout",
          "text": [
            "Sum of all even numbers between 1 and 50: 650\n"
          ]
        }
      ]
    },
    {
      "cell_type": "code",
      "source": [
        "# Write a Python program to calculate the factorial of a number provided by the user using a while loop.\n",
        "\n",
        "num = int(input(\"Enter a number: \"))\n",
        "\n",
        "factorial = 1\n",
        "i = num\n",
        "\n",
        "while i > 0:\n",
        "    factorial *= i\n",
        "    i -= 1\n",
        "print(f\"Factorial of {num} is: {factorial}\")\n"
      ],
      "metadata": {
        "colab": {
          "base_uri": "https://localhost:8080/"
        },
        "id": "XHY4DsXavvYn",
        "outputId": "9492c928-2207-49b2-a3a5-7174f8f5bc75"
      },
      "execution_count": 15,
      "outputs": [
        {
          "output_type": "stream",
          "name": "stdout",
          "text": [
            "Enter a number: 8\n",
            "Factorial of 8 is: 40320\n"
          ]
        }
      ]
    },
    {
      "cell_type": "code",
      "source": [],
      "metadata": {
        "id": "3FZd77SYwjVm"
      },
      "execution_count": null,
      "outputs": []
    }
  ]
}